{
 "cells": [
  {
   "cell_type": "code",
   "execution_count": 2,
   "metadata": {},
   "outputs": [],
   "source": [
    "import numpy as np\n",
    "import pandas as pd\n",
    "import scipy"
   ]
  },
  {
   "cell_type": "code",
   "execution_count": 1,
   "metadata": {},
   "outputs": [
    {
     "name": "stdout",
     "output_type": "stream",
     "text": [
      "gaits.csv            log_trajectories.csv walk_analyser.ipynb\r\n"
     ]
    }
   ],
   "source": [
    "! ls"
   ]
  },
  {
   "cell_type": "code",
   "execution_count": 6,
   "metadata": {},
   "outputs": [],
   "source": [
    "df = pd.read_csv('./log_trajectories.csv')"
   ]
  },
  {
   "cell_type": "code",
   "execution_count": 8,
   "metadata": {},
   "outputs": [
    {
     "data": {
      "text/html": [
       "<div>\n",
       "<table border=\"1\" class=\"dataframe\">\n",
       "  <thead>\n",
       "    <tr style=\"text-align: right;\">\n",
       "      <th></th>\n",
       "      <th>episode</th>\n",
       "      <th>reward</th>\n",
       "      <th>act_0</th>\n",
       "      <th>act_1</th>\n",
       "      <th>act_2</th>\n",
       "      <th>act_3</th>\n",
       "      <th>act_4</th>\n",
       "      <th>act_5</th>\n",
       "      <th>act_6</th>\n",
       "      <th>act_7</th>\n",
       "      <th>...</th>\n",
       "      <th>obs_29</th>\n",
       "      <th>obs_30</th>\n",
       "      <th>obs_31</th>\n",
       "      <th>obs_32</th>\n",
       "      <th>obs_33</th>\n",
       "      <th>obs_34</th>\n",
       "      <th>obs_35</th>\n",
       "      <th>obs_36</th>\n",
       "      <th>obs_37</th>\n",
       "      <th>obs_38</th>\n",
       "    </tr>\n",
       "  </thead>\n",
       "  <tbody>\n",
       "    <tr>\n",
       "      <th>0</th>\n",
       "      <td>0</td>\n",
       "      <td>-0.815212</td>\n",
       "      <td>-0.326533</td>\n",
       "      <td>0.371534</td>\n",
       "      <td>-0.574627</td>\n",
       "      <td>-1.974846</td>\n",
       "      <td>-0.713321</td>\n",
       "      <td>-1.089413</td>\n",
       "      <td>-1.016436</td>\n",
       "      <td>3.018981</td>\n",
       "      <td>...</td>\n",
       "      <td>-0.000660</td>\n",
       "      <td>-1.422328</td>\n",
       "      <td>-0.009183</td>\n",
       "      <td>-0.237934</td>\n",
       "      <td>-0.511881</td>\n",
       "      <td>-0.521056</td>\n",
       "      <td>-0.299684</td>\n",
       "      <td>-0.433531</td>\n",
       "      <td>-0.348542</td>\n",
       "      <td>0.000</td>\n",
       "    </tr>\n",
       "    <tr>\n",
       "      <th>1</th>\n",
       "      <td>1</td>\n",
       "      <td>-0.612313</td>\n",
       "      <td>-0.325654</td>\n",
       "      <td>-0.211907</td>\n",
       "      <td>-0.259909</td>\n",
       "      <td>-1.573071</td>\n",
       "      <td>0.275161</td>\n",
       "      <td>-0.840190</td>\n",
       "      <td>0.068656</td>\n",
       "      <td>1.984353</td>\n",
       "      <td>...</td>\n",
       "      <td>-0.090354</td>\n",
       "      <td>-1.375577</td>\n",
       "      <td>0.484458</td>\n",
       "      <td>-0.237934</td>\n",
       "      <td>-0.511881</td>\n",
       "      <td>-0.521056</td>\n",
       "      <td>-0.299684</td>\n",
       "      <td>-0.433531</td>\n",
       "      <td>-0.348542</td>\n",
       "      <td>0.001</td>\n",
       "    </tr>\n",
       "    <tr>\n",
       "      <th>2</th>\n",
       "      <td>2</td>\n",
       "      <td>-0.664656</td>\n",
       "      <td>-0.444067</td>\n",
       "      <td>-0.197823</td>\n",
       "      <td>-0.603266</td>\n",
       "      <td>-1.447586</td>\n",
       "      <td>0.108975</td>\n",
       "      <td>-1.130868</td>\n",
       "      <td>0.367934</td>\n",
       "      <td>1.454077</td>\n",
       "      <td>...</td>\n",
       "      <td>-0.149349</td>\n",
       "      <td>-1.272934</td>\n",
       "      <td>0.780476</td>\n",
       "      <td>-0.237934</td>\n",
       "      <td>-0.511881</td>\n",
       "      <td>-0.521056</td>\n",
       "      <td>-0.299684</td>\n",
       "      <td>-0.433531</td>\n",
       "      <td>-0.348542</td>\n",
       "      <td>0.002</td>\n",
       "    </tr>\n",
       "    <tr>\n",
       "      <th>3</th>\n",
       "      <td>3</td>\n",
       "      <td>-0.498860</td>\n",
       "      <td>-0.836055</td>\n",
       "      <td>-0.502772</td>\n",
       "      <td>-0.363469</td>\n",
       "      <td>-0.278782</td>\n",
       "      <td>0.432985</td>\n",
       "      <td>-0.717119</td>\n",
       "      <td>0.441241</td>\n",
       "      <td>0.747007</td>\n",
       "      <td>...</td>\n",
       "      <td>-0.223284</td>\n",
       "      <td>-1.137149</td>\n",
       "      <td>0.949820</td>\n",
       "      <td>-0.237934</td>\n",
       "      <td>-0.511881</td>\n",
       "      <td>-0.521056</td>\n",
       "      <td>-0.299684</td>\n",
       "      <td>-0.433531</td>\n",
       "      <td>-0.348542</td>\n",
       "      <td>0.003</td>\n",
       "    </tr>\n",
       "    <tr>\n",
       "      <th>4</th>\n",
       "      <td>4</td>\n",
       "      <td>0.119132</td>\n",
       "      <td>-0.081220</td>\n",
       "      <td>0.065608</td>\n",
       "      <td>-0.549403</td>\n",
       "      <td>-0.307242</td>\n",
       "      <td>0.425951</td>\n",
       "      <td>-0.148720</td>\n",
       "      <td>0.346286</td>\n",
       "      <td>-0.569584</td>\n",
       "      <td>...</td>\n",
       "      <td>-0.248988</td>\n",
       "      <td>-0.965494</td>\n",
       "      <td>1.226957</td>\n",
       "      <td>-0.237934</td>\n",
       "      <td>-0.511881</td>\n",
       "      <td>-0.521056</td>\n",
       "      <td>-0.299684</td>\n",
       "      <td>-0.433531</td>\n",
       "      <td>-0.348542</td>\n",
       "      <td>0.004</td>\n",
       "    </tr>\n",
       "  </tbody>\n",
       "</table>\n",
       "<p>5 rows × 53 columns</p>\n",
       "</div>"
      ],
      "text/plain": [
       "   episode    reward     act_0     act_1     act_2     act_3     act_4  \\\n",
       "0        0 -0.815212 -0.326533  0.371534 -0.574627 -1.974846 -0.713321   \n",
       "1        1 -0.612313 -0.325654 -0.211907 -0.259909 -1.573071  0.275161   \n",
       "2        2 -0.664656 -0.444067 -0.197823 -0.603266 -1.447586  0.108975   \n",
       "3        3 -0.498860 -0.836055 -0.502772 -0.363469 -0.278782  0.432985   \n",
       "4        4  0.119132 -0.081220  0.065608 -0.549403 -0.307242  0.425951   \n",
       "\n",
       "      act_5     act_6     act_7   ...      obs_29    obs_30    obs_31  \\\n",
       "0 -1.089413 -1.016436  3.018981   ...   -0.000660 -1.422328 -0.009183   \n",
       "1 -0.840190  0.068656  1.984353   ...   -0.090354 -1.375577  0.484458   \n",
       "2 -1.130868  0.367934  1.454077   ...   -0.149349 -1.272934  0.780476   \n",
       "3 -0.717119  0.441241  0.747007   ...   -0.223284 -1.137149  0.949820   \n",
       "4 -0.148720  0.346286 -0.569584   ...   -0.248988 -0.965494  1.226957   \n",
       "\n",
       "     obs_32    obs_33    obs_34    obs_35    obs_36    obs_37  obs_38  \n",
       "0 -0.237934 -0.511881 -0.521056 -0.299684 -0.433531 -0.348542   0.000  \n",
       "1 -0.237934 -0.511881 -0.521056 -0.299684 -0.433531 -0.348542   0.001  \n",
       "2 -0.237934 -0.511881 -0.521056 -0.299684 -0.433531 -0.348542   0.002  \n",
       "3 -0.237934 -0.511881 -0.521056 -0.299684 -0.433531 -0.348542   0.003  \n",
       "4 -0.237934 -0.511881 -0.521056 -0.299684 -0.433531 -0.348542   0.004  \n",
       "\n",
       "[5 rows x 53 columns]"
      ]
     },
     "execution_count": 8,
     "metadata": {},
     "output_type": "execute_result"
    }
   ],
   "source": [
    "df.head(5)"
   ]
  },
  {
   "cell_type": "code",
   "execution_count": 11,
   "metadata": {},
   "outputs": [
    {
     "data": {
      "text/html": [
       "<div>\n",
       "<table border=\"1\" class=\"dataframe\">\n",
       "  <thead>\n",
       "    <tr style=\"text-align: right;\">\n",
       "      <th></th>\n",
       "      <th>obs_32</th>\n",
       "      <th>obs_33</th>\n",
       "      <th>obs_34</th>\n",
       "      <th>obs_35</th>\n",
       "      <th>obs_36</th>\n",
       "      <th>obs_37</th>\n",
       "    </tr>\n",
       "  </thead>\n",
       "  <tbody>\n",
       "    <tr>\n",
       "      <th>0</th>\n",
       "      <td>-0.237934</td>\n",
       "      <td>-0.511881</td>\n",
       "      <td>-0.521056</td>\n",
       "      <td>-0.299684</td>\n",
       "      <td>-0.433531</td>\n",
       "      <td>-0.348542</td>\n",
       "    </tr>\n",
       "    <tr>\n",
       "      <th>1</th>\n",
       "      <td>-0.237934</td>\n",
       "      <td>-0.511881</td>\n",
       "      <td>-0.521056</td>\n",
       "      <td>-0.299684</td>\n",
       "      <td>-0.433531</td>\n",
       "      <td>-0.348542</td>\n",
       "    </tr>\n",
       "    <tr>\n",
       "      <th>2</th>\n",
       "      <td>-0.237934</td>\n",
       "      <td>-0.511881</td>\n",
       "      <td>-0.521056</td>\n",
       "      <td>-0.299684</td>\n",
       "      <td>-0.433531</td>\n",
       "      <td>-0.348542</td>\n",
       "    </tr>\n",
       "    <tr>\n",
       "      <th>3</th>\n",
       "      <td>-0.237934</td>\n",
       "      <td>-0.511881</td>\n",
       "      <td>-0.521056</td>\n",
       "      <td>-0.299684</td>\n",
       "      <td>-0.433531</td>\n",
       "      <td>-0.348542</td>\n",
       "    </tr>\n",
       "    <tr>\n",
       "      <th>4</th>\n",
       "      <td>-0.237934</td>\n",
       "      <td>-0.511881</td>\n",
       "      <td>-0.521056</td>\n",
       "      <td>-0.299684</td>\n",
       "      <td>-0.433531</td>\n",
       "      <td>-0.348542</td>\n",
       "    </tr>\n",
       "  </tbody>\n",
       "</table>\n",
       "</div>"
      ],
      "text/plain": [
       "     obs_32    obs_33    obs_34    obs_35    obs_36    obs_37\n",
       "0 -0.237934 -0.511881 -0.521056 -0.299684 -0.433531 -0.348542\n",
       "1 -0.237934 -0.511881 -0.521056 -0.299684 -0.433531 -0.348542\n",
       "2 -0.237934 -0.511881 -0.521056 -0.299684 -0.433531 -0.348542\n",
       "3 -0.237934 -0.511881 -0.521056 -0.299684 -0.433531 -0.348542\n",
       "4 -0.237934 -0.511881 -0.521056 -0.299684 -0.433531 -0.348542"
      ]
     },
     "execution_count": 11,
     "metadata": {},
     "output_type": "execute_result"
    }
   ],
   "source": [
    "walk_data = df.loc[:, \"obs_32\":\"obs_37\"]\n",
    "walk_data.head(5)"
   ]
  },
  {
   "cell_type": "code",
   "execution_count": 19,
   "metadata": {},
   "outputs": [
    {
     "data": {
      "text/html": [
       "<div>\n",
       "<table border=\"1\" class=\"dataframe\">\n",
       "  <thead>\n",
       "    <tr style=\"text-align: right;\">\n",
       "      <th></th>\n",
       "      <th>obs_32</th>\n",
       "      <th>obs_33</th>\n",
       "      <th>obs_34</th>\n",
       "      <th>obs_35</th>\n",
       "      <th>obs_36</th>\n",
       "      <th>obs_37</th>\n",
       "    </tr>\n",
       "  </thead>\n",
       "  <tbody>\n",
       "    <tr>\n",
       "      <th>0</th>\n",
       "      <td>0</td>\n",
       "      <td>0</td>\n",
       "      <td>0</td>\n",
       "      <td>0</td>\n",
       "      <td>0</td>\n",
       "      <td>0</td>\n",
       "    </tr>\n",
       "    <tr>\n",
       "      <th>1</th>\n",
       "      <td>0</td>\n",
       "      <td>0</td>\n",
       "      <td>0</td>\n",
       "      <td>0</td>\n",
       "      <td>0</td>\n",
       "      <td>0</td>\n",
       "    </tr>\n",
       "    <tr>\n",
       "      <th>2</th>\n",
       "      <td>0</td>\n",
       "      <td>0</td>\n",
       "      <td>0</td>\n",
       "      <td>0</td>\n",
       "      <td>0</td>\n",
       "      <td>0</td>\n",
       "    </tr>\n",
       "    <tr>\n",
       "      <th>3</th>\n",
       "      <td>0</td>\n",
       "      <td>0</td>\n",
       "      <td>0</td>\n",
       "      <td>0</td>\n",
       "      <td>0</td>\n",
       "      <td>0</td>\n",
       "    </tr>\n",
       "    <tr>\n",
       "      <th>4</th>\n",
       "      <td>0</td>\n",
       "      <td>0</td>\n",
       "      <td>0</td>\n",
       "      <td>0</td>\n",
       "      <td>0</td>\n",
       "      <td>0</td>\n",
       "    </tr>\n",
       "  </tbody>\n",
       "</table>\n",
       "</div>"
      ],
      "text/plain": [
       "   obs_32  obs_33  obs_34  obs_35  obs_36  obs_37\n",
       "0       0       0       0       0       0       0\n",
       "1       0       0       0       0       0       0\n",
       "2       0       0       0       0       0       0\n",
       "3       0       0       0       0       0       0\n",
       "4       0       0       0       0       0       0"
      ]
     },
     "execution_count": 19,
     "metadata": {},
     "output_type": "execute_result"
    }
   ],
   "source": [
    "walk_data = walk_data.applymap(lambda x: 0 if x < 0 else 1)\n",
    "walk_data.head(5)"
   ]
  },
  {
   "cell_type": "code",
   "execution_count": 14,
   "metadata": {},
   "outputs": [
    {
     "data": {
      "text/plain": [
       "1"
      ]
     },
     "execution_count": 14,
     "metadata": {},
     "output_type": "execute_result"
    }
   ],
   "source": [
    "0 if 5 < 0 else 1"
   ]
  },
  {
   "cell_type": "code",
   "execution_count": 100,
   "metadata": {},
   "outputs": [],
   "source": [
    "import matplotlib.pyplot as plt\n",
    "import matplotlib.patches as patches\n",
    "% matplotlib inline\n",
    "\n",
    "def draw_feet_graph(feet_data, feet_names, feet_colors, delta=0.2, max_length=500):\n",
    "    foot_count = len(feet_names)\n",
    "    yspan = foot_count\n",
    "    yplaces = [.5 + i for i in range(yspan)]\n",
    "    ylabels = feet_names\n",
    "\n",
    "    fig = plt.figure(figsize=(10, 3), dpi=100)\n",
    "    ax = fig.add_subplot(111)\n",
    "    ax.set_yticks(yplaces)\n",
    "    ax.set_yticklabels(ylabels)\n",
    "    ax.set_ylim((0, yspan))\n",
    "    ax.set_xlim((0, max_length))\n",
    "    #         ax.set_xlabel('Nogi')\n",
    "\n",
    "    xmin, xmax = ax.get_xlim()\n",
    "#     ax.hlines(range(1, yspan), xmin, xmax)\n",
    "    time_step = 0\n",
    "    vlines = []\n",
    "    main_foot_curr_contact = False\n",
    "    main_foot_last_contact = False\n",
    "    \n",
    "    for contacts in feet_data:\n",
    "        if time_step > max_length:\n",
    "            break\n",
    "        for i in range(foot_count):\n",
    "            if contacts[i] < 0.5:\n",
    "                continue\n",
    "            start, end = time_step, time_step + 1\n",
    "            pos = yplaces[i]\n",
    "            ax.add_patch(patches.Rectangle((start, pos - delta / 2.0), end - start, delta, color=feet_colors[i]))\n",
    "            \n",
    "        main_foot_curr_contact = True if contacts[0] > 0.5 else False\n",
    "        if main_foot_curr_contact is True and main_foot_last_contact is False:\n",
    "            vlines.append(time_step)\n",
    "        main_foot_last_contact = main_foot_curr_contact\n",
    "        time_step += 1\n",
    "        \n",
    "    for x in vlines:\n",
    "        ax.axvline(x,0,1, lw=0.5, color=feet_colors[0])\n",
    "    fig.canvas.draw()"
   ]
  },
  {
   "cell_type": "code",
   "execution_count": 77,
   "metadata": {},
   "outputs": [
    {
     "data": {
      "image/png": "[encoded data removed]",
      "text/plain": [
       "<matplotlib.figure.Figure at 0x120931a58>"
      ]
     },
     "metadata": {},
     "output_type": "display_data"
    }
   ],
   "source": [
    "foot_list = ['1', '5', '6', '2', '4', '3']\n",
    "foot_colors = ['#000000', '#7f7f7f', '#00ff7f', '#cc7f4d', '#ff667f', '#00667f']\n",
    "draw_feet_graph(walk_data.values, foot_list, foot_colors)"
   ]
  },
  {
   "cell_type": "code",
   "execution_count": 40,
   "metadata": {},
   "outputs": [],
   "source": [
    "# сделаем нормальный порядок\n",
    "permutation = [0, 4, 5, 1, 3, 2]\n",
    "idx = np.argsort(permutation)\n",
    "wd = walk_data.values\n",
    "wd = wd[:,idx]"
   ]
  },
  {
   "cell_type": "code",
   "execution_count": 73,
   "metadata": {},
   "outputs": [
    {
     "data": {
      "image/png": "[encoded data removed]",
      "text/plain": [
       "<matplotlib.figure.Figure at 0x11ea0f550>"
      ]
     },
     "metadata": {},
     "output_type": "display_data"
    }
   ],
   "source": [
    "new_foot_colors = ['#000000', '#cc7f4d', '#00667f', '#ff667f', '#7f7f7f', '#00ff7f']\n",
    "new_foot_list = ['1', '2', '3', '4', '5', '6']\n",
    "draw_feet_graph(wd,new_foot_list, new_foot_colors)"
   ]
  },
  {
   "cell_type": "code",
   "execution_count": null,
   "metadata": {},
   "outputs": [],
   "source": []
  },
  {
   "cell_type": "code",
   "execution_count": 74,
   "metadata": {},
   "outputs": [],
   "source": [
    "gdf = pd.read_csv('./gaits.csv')"
   ]
  },
  {
   "cell_type": "code",
   "execution_count": 76,
   "metadata": {},
   "outputs": [
    {
     "data": {
      "text/html": [
       "<div>\n",
       "<table border=\"1\" class=\"dataframe\">\n",
       "  <thead>\n",
       "    <tr style=\"text-align: right;\">\n",
       "      <th></th>\n",
       "      <th>gait_name</th>\n",
       "      <th>beta</th>\n",
       "      <th>phi2</th>\n",
       "      <th>phi3</th>\n",
       "      <th>phi4</th>\n",
       "      <th>phi5</th>\n",
       "      <th>phi6</th>\n",
       "    </tr>\n",
       "  </thead>\n",
       "  <tbody>\n",
       "    <tr>\n",
       "      <th>0</th>\n",
       "      <td>galop</td>\n",
       "      <td>0.66</td>\n",
       "      <td>0.00</td>\n",
       "      <td>0.66</td>\n",
       "      <td>0.66</td>\n",
       "      <td>0.33</td>\n",
       "      <td>0.33</td>\n",
       "    </tr>\n",
       "    <tr>\n",
       "      <th>1</th>\n",
       "      <td>triple</td>\n",
       "      <td>0.50</td>\n",
       "      <td>0.50</td>\n",
       "      <td>0.50</td>\n",
       "      <td>0.00</td>\n",
       "      <td>0.00</td>\n",
       "      <td>0.50</td>\n",
       "    </tr>\n",
       "    <tr>\n",
       "      <th>2</th>\n",
       "      <td>sequence</td>\n",
       "      <td>0.83</td>\n",
       "      <td>0.16</td>\n",
       "      <td>0.33</td>\n",
       "      <td>0.66</td>\n",
       "      <td>0.83</td>\n",
       "      <td>0.50</td>\n",
       "    </tr>\n",
       "  </tbody>\n",
       "</table>\n",
       "</div>"
      ],
      "text/plain": [
       "  gait_name  beta  phi2  phi3  phi4  phi5  phi6\n",
       "0     galop  0.66  0.00  0.66  0.66  0.33  0.33\n",
       "1    triple  0.50  0.50  0.50  0.00  0.00  0.50\n",
       "2  sequence  0.83  0.16  0.33  0.66  0.83  0.50"
      ]
     },
     "execution_count": 76,
     "metadata": {},
     "output_type": "execute_result"
    }
   ],
   "source": [
    "gdf.head(5)"
   ]
  },
  {
   "cell_type": "code",
   "execution_count": 80,
   "metadata": {},
   "outputs": [
    {
     "data": {
      "text/plain": [
       "{'galop': {'beta': 0.66,\n",
       "  'phi2': 0.0,\n",
       "  'phi3': 0.66,\n",
       "  'phi4': 0.66,\n",
       "  'phi5': 0.33,\n",
       "  'phi6': 0.33},\n",
       " 'sequence': {'beta': 0.83,\n",
       "  'phi2': 0.16,\n",
       "  'phi3': 0.33,\n",
       "  'phi4': 0.66,\n",
       "  'phi5': 0.83,\n",
       "  'phi6': 0.5},\n",
       " 'triple': {'beta': 0.5,\n",
       "  'phi2': 0.5,\n",
       "  'phi3': 0.5,\n",
       "  'phi4': 0.0,\n",
       "  'phi5': 0.0,\n",
       "  'phi6': 0.5}}"
      ]
     },
     "execution_count": 80,
     "metadata": {},
     "output_type": "execute_result"
    }
   ],
   "source": [
    "gaits = gdf.set_index('gait_name').T.to_dict()\n",
    "gaits"
   ]
  },
  {
   "cell_type": "code",
   "execution_count": 206,
   "metadata": {},
   "outputs": [],
   "source": [
    "def draw_gait(d, T=60, cycles=5):\n",
    "    # сгенерируем точки и отрисуем через draw_feet_graph\n",
    "    feet_data = np.zeros((T,6))\n",
    "    d[\"phi1\"] = 0\n",
    "    for i in range(6):\n",
    "        start_contact = int(T * d[\"phi\"+str(i+1)]) \n",
    "        end_contact = int(T * ((d['beta'] + d[\"phi\"+str(i+1)]) % 1))\n",
    "        if start_contact > end_contact:\n",
    "#             print(\"revert\")\n",
    "            for j in range(0, end_contact, 1):\n",
    "                feet_data[j,i] = 1\n",
    "            for j in range(end_contact, start_contact, 1):\n",
    "                feet_data[j,i] = 0\n",
    "            for j in range(start_contact, T, 1):\n",
    "                feet_data[j,i] = 1\n",
    "        else:\n",
    "            for j in range(start_contact, end_contact, 1):\n",
    "                feet_data[j,i] = 1\n",
    "#         print(start_contact, end_contact)\n",
    "        \n",
    "#     print(feet_data)\n",
    "    feet_data = np.array(feet_data)\n",
    "    fd = feet_data\n",
    "    for i in range(cycles):\n",
    "        fd = np.concatenate((fd,feet_data))\n",
    "    draw_feet_graph(fd, new_foot_list, new_foot_colors)"
   ]
  },
  {
   "cell_type": "code",
   "execution_count": 207,
   "metadata": {},
   "outputs": [
    {
     "data": {
      "image/png": "[encoded data removed]",
      "text/plain": [
       "<matplotlib.figure.Figure at 0x114e672b0>"
      ]
     },
     "metadata": {},
     "output_type": "display_data"
    }
   ],
   "source": [
    "draw_gait(gaits[\"galop\"])"
   ]
  },
  {
   "cell_type": "code",
   "execution_count": 208,
   "metadata": {},
   "outputs": [
    {
     "data": {
      "image/png": "[encoded data removed]",
      "text/plain": [
       "<matplotlib.figure.Figure at 0x11f221e48>"
      ]
     },
     "metadata": {},
     "output_type": "display_data"
    }
   ],
   "source": [
    "draw_gait(gaits[\"triple\"])"
   ]
  },
  {
   "cell_type": "code",
   "execution_count": 209,
   "metadata": {},
   "outputs": [
    {
     "data": {
      "image/png": "[encoded data removed]",
      "text/plain": [
       "<matplotlib.figure.Figure at 0x120f8aba8>"
      ]
     },
     "metadata": {},
     "output_type": "display_data"
    }
   ],
   "source": [
    "draw_gait(gaits[\"sequence\"])"
   ]
  },
  {
   "cell_type": "code",
   "execution_count": null,
   "metadata": {},
   "outputs": [],
   "source": []
  },
  {
   "cell_type": "code",
   "execution_count": null,
   "metadata": {},
   "outputs": [],
   "source": []
  }
 ],
 "metadata": {
  "kernelspec": {
   "display_name": "Python 3",
   "language": "python",
   "name": "python3"
  },
  "language_info": {
   "codemirror_mode": {
    "name": "ipython",
    "version": 3
   },
   "file_extension": ".py",
   "mimetype": "text/x-python",
   "name": "python",
   "nbconvert_exporter": "python",
   "pygments_lexer": "ipython3",
   "version": "3.6.4"
  }
 },
 "nbformat": 4,
 "nbformat_minor": 2
}
